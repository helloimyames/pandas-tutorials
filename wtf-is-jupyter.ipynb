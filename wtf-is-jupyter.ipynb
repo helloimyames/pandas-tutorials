{
 "cells": [
  {
   "cell_type": "markdown",
   "metadata": {},
   "source": [
    "## Jupyter Notebook a Collage of Code"
   ]
  },
  {
   "cell_type": "markdown",
   "metadata": {
    "collapsed": true
   },
   "source": [
    "A piece of art made by sticking various different materials such as photographs and pieces of paper or fabric onto a **backing**."
   ]
  },
  {
   "cell_type": "markdown",
   "metadata": {
    "collapsed": true
   },
   "source": [
    "### Consider this space as a collage"
   ]
  },
  {
   "cell_type": "markdown",
   "metadata": {
    "collapsed": true
   },
   "source": [
    "<img src=\"http://blog.creativeplaycentral.com.au/wp-content/uploads/2013/02/Picture-060-contact-collage-materials.jpg\" width=\"500px\" align=\"left\">"
   ]
  },
  {
   "cell_type": "markdown",
   "metadata": {
    "collapsed": true
   },
   "source": [
    "In the imagine above you see different stuff glued onto a paper.\n",
    "\n",
    "Different stuff like:\n",
    "* sticks\n",
    "* strings\n",
    "* fabrics\n",
    "* pictures"
   ]
  },
  {
   "cell_type": "markdown",
   "metadata": {
    "collapsed": true
   },
   "source": [
    "<img src=\"https://lh5.googleusercontent.com/XaU0WOCn3DYDt8WuiJzt04f6G3IRj1sX8iWvmjsFQSj0zNQuHc8gTWqd6UOU1T-QnjqhdgawJXd1VNR7Ui_qdQvVj4jKPggHEzRL=w1353-h832\" width=\"350px\" align=\"left\">\n"
   ]
  },
  {
   "cell_type": "markdown",
   "metadata": {},
   "source": [
    "Jupyter Notebooks acts in the same way as the pink ***backing*** is the Jupyter Notebook and you see different languages it can run.\n",
    "\n",
    "Different languages like:\n",
    "\n",
    "* HTML\n",
    "* Python\n",
    "* R\n",
    "* Julia\n",
    "* etc\n",
    "\n",
    "\n"
   ]
  },
  {
   "cell_type": "markdown",
   "metadata": {},
   "source": [
    "### Why would you use Jupyter Notebook vs. other ways?"
   ]
  },
  {
   "cell_type": "markdown",
   "metadata": {},
   "source": [
    "Some of the other alternatives would be to:\n",
    "<br/>\n",
    " <table align=\"left\">\n",
    "  <tr>\n",
    "    <th>In the Terminal</th>\n",
    "    <th>Using IDE</th>\n",
    "  </tr>\n",
    "  <tr>\n",
    "    <td><img src=\"https://openrepos.net/sites/default/files/packages/503/screenshot-ipython-0.13.1n9terminal.png\" width=\"400px\"></td>\n",
    "    <td><img src=\"http://pedrokroger.144seconds.netdna-cdn.com/wp-content/uploads/2014/02/pycharm.png?x68452\" width=\"400px\"></td>\n",
    "  </tr>\n",
    " </table> \n"
   ]
  },
  {
   "cell_type": "markdown",
   "metadata": {},
   "source": [
    "There are definitely other ways to code to produce the same results,\n",
    "But Jupyter Notebooks provides a convient way to group a bunch of programming languages into one workspace"
   ]
  },
  {
   "cell_type": "markdown",
   "metadata": {},
   "source": [
    "### Examples"
   ]
  },
  {
   "cell_type": "markdown",
   "metadata": {},
   "source": [
    "### Python"
   ]
  },
  {
   "cell_type": "code",
   "execution_count": 1,
   "metadata": {
    "collapsed": false
   },
   "outputs": [
    {
     "name": "stdout",
     "output_type": "stream",
     "text": [
      "hello from python\n"
     ]
    }
   ],
   "source": [
    "print('hello from python')"
   ]
  },
  {
   "cell_type": "markdown",
   "metadata": {},
   "source": [
    "### HTML"
   ]
  },
  {
   "cell_type": "markdown",
   "metadata": {},
   "source": [
    "<code>&lt;p&gt;<code>hello from HTML<code>&lt;/p&gt;<code>"
   ]
  },
  {
   "cell_type": "markdown",
   "metadata": {},
   "source": [
    "<p>hello from HTML</p>"
   ]
  },
  {
   "cell_type": "markdown",
   "metadata": {},
   "source": [
    "### Shell Commands"
   ]
  },
  {
   "cell_type": "code",
   "execution_count": 4,
   "metadata": {
    "collapsed": false
   },
   "outputs": [
    {
     "name": "stdout",
     "output_type": "stream",
     "text": [
      "hello from Unix\n"
     ]
    }
   ],
   "source": [
    "%%bash\n",
    " echo \"hello from Unix\""
   ]
  },
  {
   "cell_type": "markdown",
   "metadata": {},
   "source": [
    "### Ruby"
   ]
  },
  {
   "cell_type": "code",
   "execution_count": 18,
   "metadata": {
    "collapsed": false
   },
   "outputs": [
    {
     "name": "stdout",
     "output_type": "stream",
     "text": [
      "hello from Ruby\n"
     ]
    }
   ],
   "source": [
    "%%ruby \n",
    "puts 'hello from Ruby'"
   ]
  },
  {
   "cell_type": "markdown",
   "metadata": {},
   "source": [
    "# Conclusion"
   ]
  },
  {
   "cell_type": "markdown",
   "metadata": {},
   "source": [
    "* Jupyter Notebook can run a variety of languages\n"
   ]
  },
  {
   "cell_type": "code",
   "execution_count": null,
   "metadata": {
    "collapsed": true
   },
   "outputs": [],
   "source": []
  }
 ],
 "metadata": {
  "kernelspec": {
   "display_name": "Python 3",
   "language": "python",
   "name": "python3"
  },
  "language_info": {
   "codemirror_mode": {
    "name": "ipython",
    "version": 3
   },
   "file_extension": ".py",
   "mimetype": "text/x-python",
   "name": "python",
   "nbconvert_exporter": "python",
   "pygments_lexer": "ipython3",
   "version": "3.5.1"
  }
 },
 "nbformat": 4,
 "nbformat_minor": 2
}
